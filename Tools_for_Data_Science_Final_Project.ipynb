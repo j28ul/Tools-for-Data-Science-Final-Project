{
 "cells": [
  {
   "cell_type": "markdown",
   "id": "f6bc71b8",
   "metadata": {},
   "source": [
    "# Tools for Data Science - Final Project"
   ]
  },
  {
   "cell_type": "markdown",
   "id": "1f5651a4",
   "metadata": {},
   "source": [
    "## Introduction\n",
    "\n",
    "In this notebook, we will explore various tools, languages, and libraries used in Data Science. We'll also demonstrate some basic code using arithmetic expressions."
   ]
  },
  {
   "cell_type": "markdown",
   "id": "4cfc9e92",
   "metadata": {},
   "source": [
    "## Data Science Languages\n",
    "\n",
    "Here are some popular programming languages used in Data Science:\n",
    "\n",
    "1. Python  \n",
    "2. R  \n",
    "3. SQL  \n",
    "4. Julia  \n",
    "5. Scala"
   ]
  },
  {
   "cell_type": "markdown",
   "id": "d1b97d97",
   "metadata": {},
   "source": [
    "## Data Science Libraries\n",
    "\n",
    "Popular libraries used in Data Science include:\n",
    "\n",
    "- **Pandas**\n",
    "- **NumPy**\n",
    "- **Matplotlib**\n",
    "- **Scikit-learn**\n",
    "- **TensorFlow**"
   ]
  },
  {
   "cell_type": "markdown",
   "id": "0bc8a4a8",
   "metadata": {},
   "source": [
    "## Data Science Tools\n",
    "\n",
    "| Tool Name       | Category         | Description                          |\n",
    "|----------------|------------------|--------------------------------------|\n",
    "| Jupyter Notebook | IDE/Notebook    | Interactive computing environment    |\n",
    "| RStudio         | IDE              | Development environment for R        |\n",
    "| Apache Spark    | Big Data Tool    | Cluster computing system             |"
   ]
  },
  {
   "cell_type": "markdown",
   "id": "0206313c",
   "metadata": {},
   "source": [
    "## Arithmetic Expression Examples\n",
    "\n",
    "The following cells show examples of simple arithmetic operations like addition and multiplication."
   ]
  },
  {
   "cell_type": "code",
   "execution_count": null,
   "id": "0ef92e9f",
   "metadata": {},
   "outputs": [],
   "source": [
    "# This expression multiplies and adds numbers\n",
    "(3 * 4) + 5"
   ]
  },
  {
   "cell_type": "code",
   "execution_count": null,
   "id": "736a4534",
   "metadata": {},
   "outputs": [],
   "source": [
    "# Convert minutes to hours\n",
    "minutes = 150\n",
    "hours = minutes / 60\n",
    "hours"
   ]
  },
  {
   "cell_type": "markdown",
   "id": "3e29e3c2",
   "metadata": {},
   "source": [
    "## Objectives\n",
    "\n",
    "- List popular data science languages  \n",
    "- Describe commonly used libraries  \n",
    "- Show tools via a markdown table  \n",
    "- Perform basic arithmetic using Python  \n",
    "- Convert units using Python code"
   ]
  },
  {
   "cell_type": "markdown",
   "id": "76b40cd5",
   "metadata": {},
   "source": [
    "## Author\n",
    "\n",
    "**Ahmed AssAd**"
   ]
  },
  {
   "cell_type": "markdown",
   "id": "f390c201",
   "metadata": {},
   "source": [
    "## GitHub Sharing\n",
    "\n",
    "[https://github.com/j28ul/Tools-for-Data-Science-Final-Project/blob/main/Tools_for_Data_Science_Final_Project.ipynb]"
   ]
  }
 ],
 "metadata": {},
 "nbformat": 4,
 "nbformat_minor": 5
}
